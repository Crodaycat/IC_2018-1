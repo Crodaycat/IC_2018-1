{
 "cells": [
  {
   "cell_type": "code",
   "execution_count": 1,
   "metadata": {},
   "outputs": [
    {
     "name": "stdout",
     "output_type": "stream",
     "text": [
      "Hola Mundo\n",
      "4\n"
     ]
    }
   ],
   "source": [
    "#Este es un comentario porque empieza con #\n",
    "\n",
    "#Esta es una celda de código. \n",
    "\n",
    "#Se ejecuta con ctrl+enter. Probalo.\n",
    "\n",
    "#La función print puede imprimir varias cosas\n",
    "print(\"Hola Mundo\") #impresión de un string\n",
    "print(4) # impresión de un número\n",
    "\n",
    "#Intentá imprimir el string \"IMAGENES\":"
   ]
  },
  {
   "cell_type": "code",
   "execution_count": 2,
   "metadata": {},
   "outputs": [
    {
     "name": "stdout",
     "output_type": "stream",
     "text": [
      "hola\n",
      "5\n",
      "7.5\n"
     ]
    }
   ],
   "source": [
    "x=\"hola\"\n",
    "print(x)\n",
    "\n",
    "x=5\n",
    "print(x)\n",
    "\n",
    "y=x+2.5\n",
    "print(y)"
   ]
  },
  {
   "cell_type": "code",
   "execution_count": 3,
   "metadata": {},
   "outputs": [
    {
     "name": "stdout",
     "output_type": "stream",
     "text": [
      "- Tipo de x:\n",
      "<class 'int'>\n",
      "- Valor de x:\n",
      "3\n",
      "- x+1:\n",
      "4\n",
      "- x-1:\n",
      "2\n",
      "- x*2:\n",
      "6\n",
      "- x^2:\n",
      "9\n",
      "- x modificado:\n",
      "4\n",
      "- x modificado:\n",
      "8\n",
      "- Varias cosas en una línea:\n",
      "1 2 8 10\n"
     ]
    }
   ],
   "source": [
    "### Enteros ###\n",
    "\n",
    "x = 3 \n",
    "\n",
    "print(\"- Tipo de x:\")\n",
    "print(type(x)) # Imprime el tipo (o `clase`) de x\n",
    "print(\"- Valor de x:\")\n",
    "print(x)       # Imprimir un valor\n",
    "print(\"- x+1:\")\n",
    "print(x + 1)   # Suma: imprime \"4\"\n",
    "print(\"- x-1:\")\n",
    "print(x - 1)   # Resta; imprime \"2\"\n",
    "print(\"- x*2:\")\n",
    "print(x * 2)   # Multiplicación; imprime \"6\"\n",
    "print(\"- x^2:\")\n",
    "print(x ** 2)  # Exponenciación; imprime \"9\"\n",
    "# Modificación de x\n",
    "x += 1 \n",
    "print(\"- x modificado:\")\n",
    "print(x)  # Imprime \"4\"\n",
    "\n",
    "x *= 2\n",
    "print(\"- x modificado:\")\n",
    "print(x)  # Imprime \"8\"\n",
    "\n",
    "print(\"- Varias cosas en una línea:\")\n",
    "print(1,2,x,5*2) # imprime varias cosas a la vez"
   ]
  },
  {
   "cell_type": "code",
   "execution_count": 4,
   "metadata": {},
   "outputs": [
    {
     "name": "stdout",
     "output_type": "stream",
     "text": [
      "- Tipo de y:\n",
      "<class 'float'>\n",
      "- Varios valores en punto flotante:\n",
      "2.5 3.5 6.25 6.25\n"
     ]
    }
   ],
   "source": [
    "### Flotantes ###\n",
    "\n",
    "y = 2.5 \n",
    "print(\"- Tipo de y:\")\n",
    "print(type(y)) # Imprime el tipo de y\n",
    "print(\"- Varios valores en punto flotante:\")\n",
    "print(y, y + 1, y * 2.5, y ** 2) # Imprime varios números en punto flotante"
   ]
  },
  {
   "cell_type": "code",
   "execution_count": 5,
   "metadata": {},
   "outputs": [
    {
     "name": "stdout",
     "output_type": "stream",
     "text": [
      "- Valores de v1 y v2:\n",
      "True False\n",
      "- Tipo de v1:\n",
      "<class 'bool'>\n",
      "- v1 and v2:\n",
      "False\n",
      "True\n",
      "False\n",
      "False\n",
      "True\n",
      "True\n"
     ]
    }
   ],
   "source": [
    "### Booleanos ###\n",
    "\n",
    "v1 = True #el valor verdadero se escribe True \n",
    "v2 = False #el valor verdadero se escribe False\n",
    "\n",
    "print(\"- Valores de v1 y v2:\")\n",
    "print(v1,v2)\n",
    "\n",
    "print(\"- Tipo de v1:\")\n",
    "print(type(v1)) # Imprime la clase de un valor booleano ('bool')\n",
    "\n",
    "print(\"- v1 and v2:\")\n",
    "print(v1 and v2) # y lógico; imprime False\n",
    "print(v1 or v2)  # o lógico; imprime True\n",
    "print(not v1)   # negación lógica, imprime False\n",
    "\n",
    "print(3 == 5)  # Imprime False ya que son distintos\n",
    "print(3 != 5)  # Imprime True ya que son distintos\n",
    "print(3 < 5)  # Imprime True ya que 3 es menor que 5"
   ]
  },
  {
   "cell_type": "code",
   "execution_count": 6,
   "metadata": {},
   "outputs": [
    {
     "name": "stdout",
     "output_type": "stream",
     "text": [
      "- Lista con 4 números:\n",
      "[57, 45, 7, 13]\n",
      "- Lista con 3 strings:\n",
      "['hola', 'chau', 'buen día']\n",
      "- Longitud de la lista:\n",
      "4\n"
     ]
    }
   ],
   "source": [
    "print(\"- Lista con 4 números:\")\n",
    "a=[57,45,7,13] # una lista con cuatro números\n",
    "print(a)\n",
    "\n",
    "print(\"- Lista con 3 strings:\")\n",
    "b=[\"hola\",\"chau\",\"buen día\"] # una lista con tres strings\n",
    "print(b)\n",
    "\n",
    "# la función `len` me da la longitud de la lista\n",
    "print(\"- Longitud de la lista:\")\n",
    "n=len(a)\n",
    "print(n)"
   ]
  },
  {
   "cell_type": "code",
   "execution_count": 7,
   "metadata": {},
   "outputs": [
    {
     "name": "stdout",
     "output_type": "stream",
     "text": [
      "- Elemento con índice 0 de la lista:\n",
      "hola\n",
      "- Elemento con índice 1 de la lista:\n",
      "chau\n",
      "- Elemento con índice 2 de la lista:\n",
      "buen día\n"
     ]
    }
   ],
   "source": [
    "#Para acceder a sus elementos, se utiliza el []\n",
    "# Los índices comienzan en 0\n",
    "print(\"- Elemento con índice 0 de la lista:\")\n",
    "print(b[0])\n",
    "print(\"- Elemento con índice 1 de la lista:\")\n",
    "print(b[1])\n",
    "print(\"- Elemento con índice 2 de la lista:\")\n",
    "print(b[2])"
   ]
  },
  {
   "cell_type": "code",
   "execution_count": 8,
   "metadata": {},
   "outputs": [
    {
     "name": "stdout",
     "output_type": "stream",
     "text": [
      "Lista vacía:\n",
      "[]\n",
      "- Elementos del índice 0 al 1 (2-1):\n",
      "[57, 45]\n",
      "- Elementos del índice 1 al 3 (4-1):\n",
      "[45, 7, 13]\n",
      "- Elementos desde el comienzo al indice 1 (2-1) :\n",
      "[57, 45]\n",
      "- Elementos desde el indice 1 hasta el final:\n",
      "[45, 7, 13]\n",
      "- Todos los elementos:\n",
      "[57, 45, 7, 13]\n",
      "- Rango vacío -> lista vacía:\n",
      "[]\n"
     ]
    }
   ],
   "source": [
    "# para crear una lista vacía, (sin elementos), simplemente ponemos []\n",
    "vacia=[]\n",
    "print(\"Lista vacía:\")\n",
    "print(vacia)\n",
    "\n",
    "# También podés crear una sub-lista o slice especificando un rango de indices\n",
    "print(\"- Elementos del índice 0 al 1 (2-1):\")\n",
    "print(a[0:2])\n",
    "print(\"- Elementos del índice 1 al 3 (4-1):\")\n",
    "print(a[1:4])\n",
    "#Si ponés nada antes del : se asume que pusiste 0\n",
    "print(\"- Elementos desde el comienzo al indice 1 (2-1) :\")\n",
    "print(a[:2])\n",
    "#Si no ponés nada después del : se asume que tomás todos hasta el final\n",
    "print(\"- Elementos desde el indice 1 hasta el final:\")\n",
    "print(a[1:])\n",
    "\n",
    "#Si no pones nada ni antes ni después es como tomar todo\n",
    "print(\"- Todos los elementos:\")\n",
    "print(a[:])\n",
    "\n",
    "\n",
    "#Si el fin es igual al comienzo, es un rango vacío, por ende se obtiene una lista vacía\n",
    "print(\"- Rango vacío -> lista vacía:\")\n",
    "print(a[2:2])"
   ]
  },
  {
   "cell_type": "code",
   "execution_count": 9,
   "metadata": {},
   "outputs": [
    {
     "name": "stdout",
     "output_type": "stream",
     "text": [
      "- Una lista con 3 strings:\n",
      "['una', 'lista', 'de']\n",
      "- La misma lista luego de agregarle un string más:\n",
      "['una', 'lista', 'de', 'strings']\n"
     ]
    }
   ],
   "source": [
    "#por último, le podés agregar elementos a una lista con el método `append`\n",
    "print(\"- Una lista con 3 strings:\")\n",
    "a=['una','lista','de']\n",
    "print(a)\n",
    "\n",
    "print(\"- La misma lista luego de agregarle un string más:\")\n",
    "a.append('strings')\n",
    "print(a)"
   ]
  },
  {
   "cell_type": "code",
   "execution_count": 10,
   "metadata": {},
   "outputs": [
    {
     "name": "stdout",
     "output_type": "stream",
     "text": [
      "- Una tupla de cuatro elementos:\n",
      "(1, 2, 57, 4)\n",
      "- El elemento con índice 2:\n",
      "57\n",
      "- Los elementos entre los índices 0 y 2:\n",
      "(1, 2)\n"
     ]
    }
   ],
   "source": [
    "#Podés crear una tupla con valores entre () separados por ,\n",
    "a=(1,2,57,4)\n",
    "print(\"- Una tupla de cuatro elementos:\")\n",
    "print(a)\n",
    "print(\"- El elemento con índice 2:\")\n",
    "print(a[2])\n",
    "print(\"- Los elementos entre los índices 0 y 2:\")\n",
    "print(a[0:2])\n",
    "\n",
    "# la siguiente línea genera un error de ejecución\n",
    "#a.append(28)"
   ]
  },
  {
   "cell_type": "code",
   "execution_count": 11,
   "metadata": {},
   "outputs": [
    {
     "name": "stdout",
     "output_type": "stream",
     "text": [
      "La persona es\n",
      "Mayor\n",
      "De edad\n"
     ]
    }
   ],
   "source": [
    "#Estructuras de control¶\n",
    "#En Python no hay llaves ({}) ni begin...end para marcar el comienzo y fin de un bloque, sino que eso se logra con la indentación. La indentación por defecto son 4 espacios en blanco.\n",
    "\n",
    "#Entonces va a ser necesario indentar correctamente para utilizar sentencias if, for o para definir funciones.\n",
    "\n",
    "#if\n",
    "#El if es como el de otros lenguajes, pero no pide paréntesis y termina con :. Su sintaxis es:\n",
    "\n",
    "#if condicion :\n",
    "#    cuerpo del if (indentado con 4 espacios)\n",
    "#else:\n",
    "#    cuerpo del else (indentado con 4 espacios)\n",
    "\n",
    "edad = 25\n",
    "\n",
    "print(\"La persona es\")\n",
    "if edad < 18: # el if termina con : para indicar donde acaba la condición\n",
    "    # el print va indentado con 4 espacios para indicar que está dentro del\n",
    "    # cuerpo del if\n",
    "    print(\"Menor\") \n",
    "else:\n",
    "    #Lo mismo con este print\n",
    "    print(\"Mayor\")\n",
    "    \n",
    "print(\"De edad\")"
   ]
  },
  {
   "cell_type": "code",
   "execution_count": 12,
   "metadata": {},
   "outputs": [
    {
     "name": "stdout",
     "output_type": "stream",
     "text": [
      "La intensidad es:\n",
      "0\n"
     ]
    }
   ],
   "source": [
    "#Ejercicio\n",
    "# Pasar a escala de grises el color codificado en los elementos de la lista `pixel`\n",
    "\n",
    "pixel= [0.6,0.3,0.4] # intensidades de cada canal. \n",
    "#El elemento 0 es el R, el 1 el G y el 2 el B\n",
    "\n",
    "# la intensidad en escala de grises es el promedio de la intensidad de cada canal R, G y B\n",
    "intensidad=0 # IMPLEMENTAR\n",
    "\n",
    "print(\"La intensidad es:\")\n",
    "print(intensidad)"
   ]
  },
  {
   "cell_type": "code",
   "execution_count": 13,
   "metadata": {},
   "outputs": [
    {
     "name": "stdout",
     "output_type": "stream",
     "text": [
      "En blanco y negro el pixel sería: (0 -> negro, 1 -> blanco)\n",
      "0\n"
     ]
    }
   ],
   "source": [
    "#Ejercicio\n",
    "# Pasar a blanco y negro el valor de intensidad codificado en la variable intensidad\n",
    "\n",
    "\n",
    "# podemos considerar que un pixel se convierte en blanco si su intensidad en escala de grises es mayor a 0.5\n",
    "# y negro de lo contrario\n",
    "bw = 0 # IMPLEMENTAR\n",
    "\n",
    "print(\"En blanco y negro el pixel sería: (0 -> negro, 1 -> blanco)\")\n",
    "print(bw)"
   ]
  },
  {
   "cell_type": "code",
   "execution_count": 14,
   "metadata": {},
   "outputs": [
    {
     "name": "stdout",
     "output_type": "stream",
     "text": [
      "- Impresion de los elementos de la lista:\n",
      "img\n",
      "python\n",
      "numpy\n",
      "- La suma de los números es:\n",
      "42\n"
     ]
    }
   ],
   "source": [
    "#For\n",
    "#Los for son parecidos a los if, pero tienen la sintaxis for variable in lista:. En este caso, variable es la variable que va a ir cambiando, y lista es una lista de python (o un iterable que es parecido)\n",
    "\n",
    "print(\"- Impresion de los elementos de la lista:\")\n",
    "\n",
    "# Imprimir los strings de mi_lista por separado\n",
    "mi_lista=[\"img\",\"python\",\"numpy\"]\n",
    "for s in mi_lista:\n",
    "    print(s)# este print va con indentación\n",
    "    \n",
    "#calcular la suma de los números e imprimirla\n",
    "suma=0\n",
    "mis_numeros=[5,8,17,12]\n",
    "for numero in mis_numeros:\n",
    "    suma=suma+numero\n",
    "print(\"- La suma de los números es:\")\n",
    "print(suma)"
   ]
  },
  {
   "cell_type": "code",
   "execution_count": 15,
   "metadata": {},
   "outputs": [
    {
     "name": "stdout",
     "output_type": "stream",
     "text": [
      "Un for de 0 a 3\n",
      "0\n",
      "1\n",
      "2\n",
      "3\n",
      "- Un for de 2 a 5:\n",
      "2\n",
      "3\n",
      "4\n",
      "5\n"
     ]
    }
   ],
   "source": [
    "#Cuando no tenemos una lista y queremos hacer un for \"común\" y que la variable que cambia sea un número que va incrementándose, podemos utilizar la función range.\n",
    "\n",
    "#un for de 0 a 3, para imprimir esos valores\n",
    "print(\"Un for de 0 a 3\")\n",
    "for i in range(4):\n",
    "    print(i)\n",
    "    \n",
    "#En Python los índices comienzan en 0, y por eso los rangos también.\n",
    "    \n",
    "#También se puede comenzar el rango en otro valor en lugar de 0\n",
    "print(\"- Un for de 2 a 5:\")\n",
    "for j in range(2,6):\n",
    "    print(j)"
   ]
  },
  {
   "cell_type": "code",
   "execution_count": 16,
   "metadata": {},
   "outputs": [
    {
     "name": "stdout",
     "output_type": "stream",
     "text": [
      "- El maximo es:\n",
      "0\n"
     ]
    }
   ],
   "source": [
    "#Ejercicio: Escribir un for para buscar el máximo de la lista e imprimirlo\n",
    "lista=[44,11,15,29,53,12,30]\n",
    "maximo=0\n",
    "# IMPLEMENTAR\n",
    "\n",
    "# debe imprimir 53\n",
    "print(\"- El maximo es:\")\n",
    "print(maximo)"
   ]
  },
  {
   "cell_type": "code",
   "execution_count": 17,
   "metadata": {},
   "outputs": [
    {
     "name": "stdout",
     "output_type": "stream",
     "text": [
      "- La posición del máximo es:\n",
      "0\n"
     ]
    }
   ],
   "source": [
    "#Ejercicio: Escribir un for para buscar el máximo de la lista e imprimir su _posición_\n",
    "lista=[44,11,15,29,53,12,30]\n",
    "posicion=0\n",
    "# IMPLEMENTAR\n",
    "\n",
    "#debe imprimir 4\n",
    "print(\"- La posición del máximo es:\")\n",
    "print(posicion)"
   ]
  },
  {
   "cell_type": "code",
   "execution_count": 18,
   "metadata": {},
   "outputs": [
    {
     "name": "stdout",
     "output_type": "stream",
     "text": [
      "2+5=\n",
      "7\n",
      "los elementos de la lista suman:\n",
      "180\n"
     ]
    }
   ],
   "source": [
    "#Funciones\n",
    "#Las funciones se definen con la palabra clave def y tienen la sintaxis def nombre_funcion(parametros):. Para devolver un valor utilizamos la palabra clave  return.\n",
    "\n",
    "#esta funcion recibe dos números y devuelve su suma\n",
    "\n",
    "def sumar(a,b):\n",
    "    return a+b\n",
    "\n",
    "\n",
    "c=sumar(2,5)\n",
    "print(\"2+5=\")\n",
    "print(c)\n",
    "\n",
    "\n",
    "#esta funcion recibe una lista y devuelve la suma de sus elementos\n",
    "def sumar_todos(lista):\n",
    "    suma=0\n",
    "    for v in lista:\n",
    "        suma+=v\n",
    "    return suma\n",
    "\n",
    "mi_lista=[54,12,99,15]\n",
    "print(\"los elementos de la lista suman:\")\n",
    "print(sumar_todos(mi_lista))"
   ]
  },
  {
   "cell_type": "code",
   "execution_count": 19,
   "metadata": {},
   "outputs": [
    {
     "name": "stdout",
     "output_type": "stream",
     "text": [
      "0\n"
     ]
    }
   ],
   "source": [
    "#Ejercicio\n",
    "# Escribir una función que reciba una lista y un valor, \n",
    "#y devuelva la cantidad de veces que aparece ese valor en la lista\n",
    "\n",
    "def ocurrencias(lista,valor):\n",
    "    # IMPLEMENTAR\n",
    "    return 0\n",
    "\n",
    "\n",
    "l=[1,4,2,3,5,1,4,2,3,6,1,7,1,3,5,1,1,5,3,2]\n",
    "v=2\n",
    "\n",
    "print(ocurrencias(l,v))"
   ]
  },
  {
   "cell_type": "code",
   "execution_count": null,
   "metadata": {},
   "outputs": [],
   "source": []
  }
 ],
 "metadata": {
  "kernelspec": {
   "display_name": "Python 3",
   "language": "python",
   "name": "python3"
  },
  "language_info": {
   "codemirror_mode": {
    "name": "ipython",
    "version": 3
   },
   "file_extension": ".py",
   "mimetype": "text/x-python",
   "name": "python",
   "nbconvert_exporter": "python",
   "pygments_lexer": "ipython3",
   "version": "3.6.4"
  }
 },
 "nbformat": 4,
 "nbformat_minor": 2
}
