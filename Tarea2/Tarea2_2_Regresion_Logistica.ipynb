{
 "cells": [
  {
   "cell_type": "markdown",
   "metadata": {},
   "source": [
    "# REGRESIÓN LOGÍSTICA PARA CLASIFICACIÓN"
   ]
  },
  {
   "cell_type": "markdown",
   "metadata": {},
   "source": [
    "##  Edison David González Blandón - JuanEsteban Velásquez"
   ]
  },
  {
   "cell_type": "code",
   "execution_count": 4,
   "metadata": {},
   "outputs": [],
   "source": [
    "import pandas as pd\n",
    "import numpy as np\n",
    "import matplotlib.pyplot as plt\n"
   ]
  },
  {
   "cell_type": "code",
   "execution_count": 5,
   "metadata": {},
   "outputs": [
    {
     "name": "stderr",
     "output_type": "stream",
     "text": [
      "C:\\ProgramData\\Anaconda3\\lib\\site-packages\\pandas\\util\\_decorators.py:118: FutureWarning: The `sheetname` keyword is deprecated, use `sheet_name` instead\n",
      "  return func(*args, **kwargs)\n"
     ]
    }
   ],
   "source": [
    "df1 = pd.io.excel.read_excel(\"DatosPunto2.xlsx\", sheetname=0)#cargo el archivo\n",
    "letters = df1.iloc[:,0].copy()#cargo las letras en una lista llamada letters\n",
    "val = df1.iloc[:,1:16].copy()#cargo los valores en una lista llamada val\n",
    "#normalización min-max\n",
    "apellidos = 'VELASQUZGON'# Velasquez y gonzalez\n",
    "val = (val-np.min(val, axis = 0))/(np.max(val, axis = 0)-np.min(val, axis = 0))\n",
    "X = np.array(val)\n",
    "y = np.zeros((X.shape[0],))\n",
    "i = 0\n",
    "for L in letters:\n",
    "    if apellidos.find(L) >= 0:\n",
    "        y[i] = 1  \n",
    "    i += 1\n",
    "X_original = X\n",
    "Y_original = y\n",
    "Numero_Filas_Datos = X.shape[0] #Obteniendo la cantidad de elementos en una lista, es decir la cantidad de filas\n",
    "\n",
    "N_datos_entrenamiento = int(Numero_Filas_Datos*0.7) #70% para entrenamiento \n",
    "N_datos_validacion = int(Numero_Filas_Datos*0.15) #15% para validación\n",
    "N_datos_prueba = Numero_Filas_Datos - N_datos_validacion - N_datos_entrenamiento #15% para prueba\n",
    "matrix_normalizado = X #Ya quedo un vector de 768 filas y 8 columnas\n",
    "matrix_salida = y #Quedo como un vector fila\n",
    "matrix_entrenamiento = matrix_normalizado[0:N_datos_entrenamiento,:] #Matriz[537,8]\n",
    "matrix_salida_entrenamiento = matrix_salida[0:N_datos_entrenamiento] #Matriz[537,1]\n",
    "matrix_validacion = matrix_normalizado[N_datos_entrenamiento:(N_datos_entrenamiento+N_datos_validacion),:] #Matriz[115,8]\n",
    "matrix_salida_validacion = matrix_salida[N_datos_entrenamiento:(N_datos_entrenamiento+N_datos_validacion)] #Matriz[115,1]\n",
    "matrix_prueba = matrix_normalizado[N_datos_validacion:(N_datos_validacion+N_datos_prueba),:] #Matriz[116,8]\n",
    "matrix_salida_prueba = matrix_salida[N_datos_validacion:(N_datos_validacion+N_datos_prueba)] #Matriz[1\n"
   ]
  },
  {
   "cell_type": "code",
   "execution_count": 17,
   "metadata": {},
   "outputs": [
    {
     "name": "stdout",
     "output_type": "stream",
     "text": [
      "inicio entrenamiento\n",
      "final entrenamiento\n"
     ]
    }
   ],
   "source": [
    "\n",
    "def sigmoid(x,deriv=False):\n",
    "    return 1/(1+np.exp(-x))\n",
    "def LogisticRegression(X,y,alpha=0.0017,lamda=0.1,iteraciones=1000):   \n",
    "    if X.ndim > 1:\n",
    "        [M,N] = X.shape\n",
    "    else:\n",
    "        M = X.shape[0]\n",
    "        N = 1\n",
    "        X = X[:,None]\n",
    "    VectorBias = np.ones(shape=(M,1))\n",
    "    X = np.concatenate((VectorBias,X),axis=1)\n",
    "    theta = np.random.rand(N+1,1)\n",
    "    arr = np.arange(M)\n",
    "    np.random.shuffle(arr)\n",
    "    X=X[arr,:]\n",
    "    y=y[arr]\n",
    "    for j in range(0,iteraciones):\n",
    "        h_x = sigmoid(np.dot(X,theta))\n",
    "        #print(\"hx\")\n",
    "        J0 = (1-y)*np.log(1-h_x)\n",
    "        #print(\"j0\")\n",
    "        J1 = y*np.log(h_x)\n",
    "        #print(\"j1\")\n",
    "        J0[np.isinf(J0)]=0\n",
    "        #print(\"miro si es infinito j0\")\n",
    "        J1[np.isinf(J1)]=0\n",
    "        #print(\"miro si es infinito j1\")\n",
    "        J0 = -1/M * np.sum(J0)\n",
    "        #print(\"Opero j0\")\n",
    "        J1 = -1/M * np.sum(J1)      \n",
    "        #print(\"Opero j1\")\n",
    "        J = J1+J0\n",
    "        #print(\"Opero J suma\")\n",
    "        dJ_dtheta = 1/(M)*np.dot((h_x-y).T,X).T\n",
    "        #print(\"Dj tehta\")\n",
    "        theta = theta - alpha* dJ_dtheta\n",
    "        #print(\"theta\")\n",
    "        theta[1:] = theta[1:] - alpha*lamda/M*theta[1:] #Regularization\n",
    "        #print(\"iteré: \" + str(j))\n",
    "    return theta\n",
    "def prediction(X,theta):\n",
    "    X = np.insert(X,0,1)\n",
    "    return sigmoid(np.dot(X,theta))\n",
    "print(\"inicio entrenamiento\")\n",
    "theta=LogisticRegression(matrix_entrenamiento, matrix_salida_entrenamiento[:,None])\n",
    "print(\"final entrenamiento\")"
   ]
  },
  {
   "cell_type": "code",
   "execution_count": 18,
   "metadata": {},
   "outputs": [
    {
     "name": "stdout",
     "output_type": "stream",
     "text": [
      "51.28376125375125\n"
     ]
    },
    {
     "data": {
      "image/png": "[encoded data removed]",
      "text/plain": [
       "<matplotlib.figure.Figure at 0x16cdce38898>"
      ]
     },
     "metadata": {},
     "output_type": "display_data"
    }
   ],
   "source": [
    "prediccion = []\n",
    "for i in range(0,matrix_validacion.shape[0]):\n",
    "    prediccion.append(prediction(matrix_validacion[i,:],theta))\n",
    "#d = {'1. valor predicho':prediccion,'2. etiqueta':matrix_salida_entrenamiento}\n",
    "prediccion=np.array(prediccion)  \n",
    "error=0\n",
    "for i in range (0,matrix_salida_validacion.shape[0]):\n",
    "    if(prediccion[i]>0.7):\n",
    "        prediccion[i]=1\n",
    "    else:\n",
    "        prediccion[i]=0\n",
    "for i in range(0,matrix_salida_validacion.shape[0]):\n",
    "    if(prediccion[i]==matrix_salida_validacion[i]):\n",
    "        error=error+1;\n",
    "error=error/len(prediccion)*100        \n",
    "#df = pd.DataFrame(data=d)\n",
    "#df\n",
    "print(error)\n",
    "plt.plot(prediccion,'o')\n",
    "plt.plot(matrix_salida_validacion,'x')\n",
    "plt.show()"
   ]
  },
  {
   "cell_type": "code",
   "execution_count": 19,
   "metadata": {},
   "outputs": [
    {
     "name": "stdout",
     "output_type": "stream",
     "text": [
      "53.64878373875375\n"
     ]
    },
    {
     "data": {
      "image/png": "[encoded data removed]",
      "text/plain": [
       "<matplotlib.figure.Figure at 0x16cddd997f0>"
      ]
     },
     "metadata": {},
     "output_type": "display_data"
    }
   ],
   "source": [
    "prediccion_prueba = []\n",
    "for i in range(0,matrix_prueba.shape[0]):\n",
    "    prediccion_prueba.append(prediction(matrix_prueba[i,:],theta))\n",
    "#d = {'1. valor predicho':prediccion,'2. etiqueta':matrix_salida_entrenamiento}\n",
    "prediccion_prueba=np.array(prediccion_prueba)  \n",
    "error=0\n",
    "for i in range (0,matrix_salida_prueba.shape[0]):\n",
    "    if(prediccion_prueba[i]>0.7):\n",
    "        prediccion_prueba[i]=1\n",
    "    else:\n",
    "        prediccion_prueba[i]=0\n",
    "for i in range(0,matrix_salida_prueba.shape[0]):\n",
    "    if(prediccion_prueba[i]==matrix_salida_prueba[i]):\n",
    "        error=error+1;\n",
    "error=error/len(prediccion_prueba)*100        \n",
    "#df = pd.DataFrame(data=d)\n",
    "#df\n",
    "print(error)\n",
    "plt.plot(prediccion_prueba,'o')\n",
    "plt.plot(matrix_salida_prueba,'x')\n",
    "plt.show()"
   ]
  },
  {
   "cell_type": "code",
   "execution_count": null,
   "metadata": {},
   "outputs": [],
   "source": []
  },
  {
   "cell_type": "code",
   "execution_count": null,
   "metadata": {},
   "outputs": [],
   "source": []
  }
 ],
 "metadata": {
  "kernelspec": {
   "display_name": "Python 3",
   "language": "python",
   "name": "python3"
  },
  "language_info": {
   "codemirror_mode": {
    "name": "ipython",
    "version": 3
   },
   "file_extension": ".py",
   "mimetype": "text/x-python",
   "name": "python",
   "nbconvert_exporter": "python",
   "pygments_lexer": "ipython3",
   "version": "3.6.4"
  }
 },
 "nbformat": 4,
 "nbformat_minor": 2
}
