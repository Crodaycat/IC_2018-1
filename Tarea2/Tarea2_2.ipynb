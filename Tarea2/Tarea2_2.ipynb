{
 "cells": [
  {
   "cell_type": "markdown",
   "metadata": {},
   "source": [
    "# PERCEPTRÓN PARA CLASIFICACIÓN - (UNA SOLA NEURONA) - CON FUNC ACTIVACIÓN SIGMOIDAL"
   ]
  },
  {
   "cell_type": "markdown",
   "metadata": {},
   "source": [
    "### Obteniendo y normalizando datos"
   ]
  },
  {
   "cell_type": "code",
   "execution_count": 50,
   "metadata": {
    "collapsed": true
   },
   "outputs": [],
   "source": [
    "import pandas as pd\n",
    "import numpy as np\n",
    "import matplotlib.pyplot as plt\n",
    "datos_xls = pd.ExcelFile('DatosPunto2.xlsx') #Obteniendo el archivo\n",
    "sheet_names = datos_xls.sheet_names #Obteniendo un arreglo con los nombres de las hojas del libro de excel\n",
    "hoja = datos_xls.parse(sheet_names[0]) #Nuestra hoja de trabajo es la primera pestaña\n",
    "#print(hoja)\n",
    "columnas = [] #Una lista vacia de columnas \n",
    "columnas_norm = [] #Una lista vacia de las columnas normalizadas\n",
    "for i in range(1,17):      \n",
    "    columnas.append(hoja.iloc[:,i]) #Se agrega a la lista el elemento = a un arreglo o columna \n",
    "    columnas_norm.append((columnas[i-1]-np.min(columnas[i-1],axis=0))/(np.max(columnas[i-1],axis=0)-np.min(columnas[i-1],axis=0))) ## Estandarizando con Min-Max (  En latex lo siguiente:   $$X_{norm} = \\frac{X-\\min(X)}{\\max(X)-\\min(X)}$$  )   axis=0 -> filas  y  axis=1 -> columnas\n",
    "#print(columnas)\n",
    "#print(type(columnas))\n",
    "#print(np.shape(columnas))\n",
    "#print(columnas[0])\n",
    "#print(columnas[1])\n",
    "#print(columnas[15])\n",
    "#print(np.shape(columnas_norm))\n",
    "#print(columnas_norm)"
   ]
  },
  {
   "cell_type": "markdown",
   "metadata": {},
   "source": [
    "### Obtenemos la matriz de salida (Valores: Clase1: -1, Clase2: 1 ; [-1,1]) "
   ]
  },
  {
   "cell_type": "code",
   "execution_count": 51,
   "metadata": {
    "collapsed": true
   },
   "outputs": [],
   "source": [
    "#Etiquetados: 1 si la letra esta dentro de mi apellido, -1 caso contrario\n",
    "vect_letras=['G','O','N','Z','A','L','E','Z'] #Vector para definir cuales son los de la clase 1\n",
    "lista_etiqueta=[]#Se crea una lista etiquetando en -1 y 1\n",
    "matriz_datos=np.array(hoja)\n",
    "#print(np.shape(matriz_datos))\n",
    "for i in range (len(matriz_datos)): #For que va desde i hasta el tamaño de la matriz de datos\n",
    "    for j in range (len(vect_letras)): #Recorriendo el vector de letras\n",
    "        if(matriz_datos[i,0]==vect_letras[j]): #Comparando si la fila de los datos en la columna 0 coincide con una letra del vector donde estan las letras de apellidos\n",
    "            flag_clase1=True #Pertenece a la clase 1\n",
    "            break #Dejar de recorrer el vector letras del apellido, si encuentra la letra\n",
    "        else:\n",
    "            flag_clase1=False #Sino es una etiqeta cualquiera\n",
    "    if(flag_clase1): #Si se levanto la bandera que es entonces las etiquetas se colocan en 1\n",
    "        lista_etiqueta.append(1)\n",
    "    else:\n",
    "        lista_etiqueta.append(-1) #Sino en -1\n",
    "#print(matriz_datos[0])"
   ]
  },
  {
   "cell_type": "markdown",
   "metadata": {},
   "source": [
    "### Dividir la matriz de datos de entrada para entrenamiento, validación y prueba"
   ]
  },
  {
   "cell_type": "code",
   "execution_count": 52,
   "metadata": {},
   "outputs": [],
   "source": [
    "Numero_Filas_Datos = len(columnas_norm[0]) #Obteniendo la cantidad de elementos en una lista, es decir la cantidad de filas\n",
    "#print(Numero_Filas_Datos)\n",
    "#Se realiza la división para hacer bootstraping\n",
    "N_datos_entrenamiento = int(Numero_Filas_Datos*0.7) #70% para entrenamiento \n",
    "N_datos_validacion = int(Numero_Filas_Datos*0.15) #15% para validación\n",
    "N_datos_prueba = Numero_Filas_Datos - N_datos_validacion - N_datos_entrenamiento #15% para prueba\n",
    "#print(N_datos_entrenamiento)\n",
    "#print(N_datos_validacion)\n",
    "#print(N_datos_prueba)\n",
    "\n",
    "matrix_normalizado = np.array(columnas_norm).T #Ya quedo un vector de 20000 filas y 16 columnas\n",
    "vector_etiquetas=np.array(lista_etiqueta) #Pasarlo a vector\n",
    "#print(np.shape(vect_etiqueta)) #Dimensiones del vector etiqueta\n",
    "#print(vector_etiquetas[0:20])\n",
    "\n",
    "matrix_entrenamiento = matrix_normalizado[0:N_datos_entrenamiento,:] #Matriz[14000,16]\n",
    "#print(matrix_entrenamiento.shape)\n",
    "vector_etiquetas_entrenamiento = vector_etiquetas[0:N_datos_entrenamiento] #Matriz[14000,1]\n",
    "#print(vector_etiquetas_entrenamiento.shape)\n",
    "matrix_validacion = matrix_normalizado[N_datos_entrenamiento:(N_datos_entrenamiento+N_datos_validacion),:] #Matriz[3000,16]\n",
    "#print(matrix_validacion.shape)\n",
    "vector_etiquetas_validacion = vector_etiquetas[N_datos_entrenamiento:(N_datos_entrenamiento+N_datos_validacion)] #Matriz[3000,1]\n",
    "#print(vector_etiquetas_validacion.shape)\n",
    "matrix_prueba = matrix_normalizado[N_datos_validacion:(N_datos_validacion+N_datos_prueba),:] #Matriz[3000,16]\n",
    "#print(matrix_prueba.shape)\n",
    "vector_etiquetas_prueba = vector_etiquetas[N_datos_validacion:(N_datos_validacion+N_datos_prueba)] #Matriz[3000,1]\n",
    "#print(vector_etiquetas_prueba.shape)"
   ]
  },
  {
   "cell_type": "markdown",
   "metadata": {},
   "source": [
    "### Definiendo funciones necesarias para implementar el algoritmo perceptrón"
   ]
  },
  {
   "cell_type": "code",
   "execution_count": 53,
   "metadata": {
    "collapsed": true
   },
   "outputs": [],
   "source": [
    "#Definición de la función sigmoidal\n",
    "def sigmoid(x):\n",
    "    return 1/(1+np.exp(-x))"
   ]
  },
  {
   "cell_type": "markdown",
   "metadata": {},
   "source": [
    "\n",
    "### Implementando algoritmo Perceptron para entrenamiento y validación"
   ]
  },
  {
   "cell_type": "code",
   "execution_count": 54,
   "metadata": {},
   "outputs": [],
   "source": [
    "\n",
    "def Perceptron_Train(matrix_entrenamiento,max_iteraciones = 1000,error_min = 9):\n",
    "    #Banderas para tener el control del entrenamiento \n",
    "    flag_culm = True #Bandera que indica cuando culminar las iteracciones\n",
    "    contador = 0\n",
    "    contador_errores = 0\n",
    "    error = 0\n",
    "    error_min = 0\n",
    "    max_iteraciones=1000\n",
    "    result_valid = False #Resultado de la validación, false si no valida y true si valida\n",
    "    vector_pesos = np.random.rand(matrix_entrenamiento.shape[1] + 1,) #Obteniendo un vector de numeros aleatorio entre 0 y 1, segun el tamaño de columnas en la matrix de entrenamiento (Shape devuelve las dimensiones de un arreglo) donde shape[0]=filas y shape[1]=columnas \n",
    "\n",
    "    while(flag_culm):\n",
    "        contador = contador + 1;\n",
    "        #Escoja (xi,yi) al azar\n",
    "        dato_escogido = np.random.randint(0,N_datos_entrenamiento) #Escogiendo un numero para indicar que fila coger\n",
    "        g  = np.dot(vector_pesos.T,np.insert(matrix_entrenamiento[dato_escogido,:],0,1)) # y = w.xT donde Y = matriz de salida, wT = Matriz de pesos\n",
    "        yp = sigmoid(g)-0.5 #Pasando por la funcion de activación que se le baja su offset de 0.5 \n",
    "        #print(np.shape(yp)) -> Es un escalar\n",
    "        #print(np.shape(g)) -> Es un escalar\n",
    "        result_comparacion = yp*vector_etiquetas_entrenamiento[dato_escogido] #result_comparacion = (wTXi)Yi\n",
    "        if(result_comparacion <= 0):\n",
    "            # (yp) (etiqueta=y) resultado\n",
    "            #   +        +         +\n",
    "            #   +        -         -\n",
    "            #   -        +         -\n",
    "            #   -        -         +\n",
    "            vector_pesos = vector_pesos + np.dot((np.insert(matrix_entrenamiento[dato_escogido,:],0,1).T),vector_etiquetas_entrenamiento[dato_escogido])\n",
    "            contador_errores += 1\n",
    "\n",
    "        result_valid = func_valid(vector_pesos,matrix_validacion, vector_etiquetas_validacion, error_min)\n",
    "        if(contador==max_iteraciones):\n",
    "            flag_culm = False #Dejar de iterar\n",
    "            print(\"culminacion por iteraciones\")\n",
    "        if(result_valid):\n",
    "            print(\"culminacion por validacion\")\n",
    "            flag_culm = False #Dejar de iterar\n",
    "    porcentaje_efic_entrenamiento = 100 - (((contador_errores)/contador)*100)\n",
    "    return vector_pesos\n",
    "\n",
    "#print(np.shape(np.insert(matrix_entrenamiento[dato_escogido,:],0,1)))\n",
    "#print(np.shape(vector_etiquetas_entrenamiento))\n",
    "#print(np.shape(vector_pesos))\n",
    "\n"
   ]
  },
  {
   "cell_type": "code",
   "execution_count": 61,
   "metadata": {},
   "outputs": [
    {
     "name": "stdout",
     "output_type": "stream",
     "text": [
      "el error es:  [-308.76203116 -306.29725888 -306.51690642 ..., -306.33209343 -308.05641876\n",
      " -308.52391816]\n"
     ]
    },
    {
     "ename": "ValueError",
     "evalue": "The truth value of an array with more than one element is ambiguous. Use a.any() or a.all()",
     "output_type": "error",
     "traceback": [
      "\u001b[1;31m---------------------------------------------------------------------------\u001b[0m",
      "\u001b[1;31mValueError\u001b[0m                                Traceback (most recent call last)",
      "\u001b[1;32m<ipython-input-61-ee2af0e94c4e>\u001b[0m in \u001b[0;36m<module>\u001b[1;34m()\u001b[0m\n\u001b[0;32m      9\u001b[0m     \u001b[1;31m#print(\"el error cuadrado es: \", error_cuadrado)\u001b[0m\u001b[1;33m\u001b[0m\u001b[1;33m\u001b[0m\u001b[0m\n\u001b[0;32m     10\u001b[0m \u001b[0mprint\u001b[0m\u001b[1;33m(\u001b[0m\u001b[1;34m\"el error es: \"\u001b[0m\u001b[1;33m,\u001b[0m \u001b[0merror\u001b[0m\u001b[1;33m)\u001b[0m\u001b[1;33m\u001b[0m\u001b[0m\n\u001b[1;32m---> 11\u001b[1;33m \u001b[1;32mif\u001b[0m \u001b[1;33m(\u001b[0m\u001b[0merror\u001b[0m \u001b[1;33m<=\u001b[0m \u001b[0merror_min\u001b[0m\u001b[1;33m)\u001b[0m\u001b[1;33m:\u001b[0m\u001b[1;33m\u001b[0m\u001b[0m\n\u001b[0m\u001b[0;32m     12\u001b[0m     \u001b[0mflag_valid\u001b[0m\u001b[1;33m=\u001b[0m\u001b[1;32mTrue\u001b[0m\u001b[1;33m\u001b[0m\u001b[0m\n\u001b[0;32m     13\u001b[0m \u001b[1;32melse\u001b[0m\u001b[1;33m:\u001b[0m\u001b[1;33m\u001b[0m\u001b[0m\n",
      "\u001b[1;31mValueError\u001b[0m: The truth value of an array with more than one element is ambiguous. Use a.any() or a.all()"
     ]
    }
   ],
   "source": [
    "#func_valid(vector_pesos,matrix_validacion, vector_etiquetas_validacion, error_min=0)\n",
    "\n",
    "\n",
    "matrix_validacion_bias = np.insert(matrix_validacion,0,1,axis=1)\n",
    "prediccion = np.dot(matrix_validacion_bias,vector_pesos)\n",
    "error = prediccion - vector_etiquetas_validacion\n",
    "for i in range(0,len(error)):\n",
    "    error += -np.dot(yp,vector_etiquetas_validacion[i]) #Cuando entra en el if, fue porque el resultado fue malo\n",
    "    #print(\"el error cuadrado es: \", error_cuadrado)\n",
    "print(\"el error es: \", error)\n",
    "if (error <= error_min):\n",
    "    flag_valid=True\n",
    "else: \n",
    "    flag_valid=False\n",
    "#return flag_valid\n",
    "\n",
    "\n",
    "print(np.shape(prediccion))\n",
    "print(np.shape(error))"
   ]
  },
  {
   "cell_type": "code",
   "execution_count": 56,
   "metadata": {
    "scrolled": false
   },
   "outputs": [
    {
     "name": "stdout",
     "output_type": "stream",
     "text": [
      "el error es:  [-310.47002509 -310.61989869 -310.23993356 ..., -310.39940281 -310.38056345\n",
      " -310.63332802]\n"
     ]
    },
    {
     "ename": "ValueError",
     "evalue": "The truth value of an array with more than one element is ambiguous. Use a.any() or a.all()",
     "output_type": "error",
     "traceback": [
      "\u001b[1;31m---------------------------------------------------------------------------\u001b[0m",
      "\u001b[1;31mValueError\u001b[0m                                Traceback (most recent call last)",
      "\u001b[1;32m<ipython-input-56-9a7676de7b70>\u001b[0m in \u001b[0;36m<module>\u001b[1;34m()\u001b[0m\n\u001b[1;32m----> 1\u001b[1;33m \u001b[0mvector_pesos_final\u001b[0m \u001b[1;33m=\u001b[0m \u001b[0mPerceptron_Train\u001b[0m\u001b[1;33m(\u001b[0m\u001b[0mmatrix_entrenamiento\u001b[0m\u001b[1;33m,\u001b[0m\u001b[0mmax_iteraciones\u001b[0m \u001b[1;33m=\u001b[0m \u001b[1;36m1000\u001b[0m\u001b[1;33m,\u001b[0m\u001b[0merror_min\u001b[0m \u001b[1;33m=\u001b[0m \u001b[1;36m8.9\u001b[0m\u001b[1;33m)\u001b[0m\u001b[1;33m\u001b[0m\u001b[0m\n\u001b[0m",
      "\u001b[1;32m<ipython-input-54-58532067a044>\u001b[0m in \u001b[0;36mPerceptron_Train\u001b[1;34m(matrix_entrenamiento, max_iteraciones, error_min)\u001b[0m\n\u001b[0;32m     29\u001b[0m             \u001b[0mcontador_errores\u001b[0m \u001b[1;33m+=\u001b[0m \u001b[1;36m1\u001b[0m\u001b[1;33m\u001b[0m\u001b[0m\n\u001b[0;32m     30\u001b[0m \u001b[1;33m\u001b[0m\u001b[0m\n\u001b[1;32m---> 31\u001b[1;33m         \u001b[0mresult_valid\u001b[0m \u001b[1;33m=\u001b[0m \u001b[0mfunc_valid\u001b[0m\u001b[1;33m(\u001b[0m\u001b[0mvector_pesos\u001b[0m\u001b[1;33m,\u001b[0m\u001b[0mmatrix_validacion\u001b[0m\u001b[1;33m,\u001b[0m \u001b[0mvector_etiquetas_validacion\u001b[0m\u001b[1;33m,\u001b[0m \u001b[0merror_min\u001b[0m\u001b[1;33m)\u001b[0m\u001b[1;33m\u001b[0m\u001b[0m\n\u001b[0m\u001b[0;32m     32\u001b[0m         \u001b[1;32mif\u001b[0m\u001b[1;33m(\u001b[0m\u001b[0mcontador\u001b[0m\u001b[1;33m==\u001b[0m\u001b[0mmax_iteraciones\u001b[0m\u001b[1;33m)\u001b[0m\u001b[1;33m:\u001b[0m\u001b[1;33m\u001b[0m\u001b[0m\n\u001b[0;32m     33\u001b[0m             \u001b[0mflag_culm\u001b[0m \u001b[1;33m=\u001b[0m \u001b[1;32mFalse\u001b[0m \u001b[1;31m#Dejar de iterar\u001b[0m\u001b[1;33m\u001b[0m\u001b[0m\n",
      "\u001b[1;32m<ipython-input-55-67198804c6bf>\u001b[0m in \u001b[0;36mfunc_valid\u001b[1;34m(vector_pesos, matrix_validacion, vector_etiquetas_validacion, error_min)\u001b[0m\n\u001b[0;32m      8\u001b[0m         \u001b[1;31m#print(\"el error cuadrado es: \", error_cuadrado)\u001b[0m\u001b[1;33m\u001b[0m\u001b[1;33m\u001b[0m\u001b[0m\n\u001b[0;32m      9\u001b[0m     \u001b[0mprint\u001b[0m\u001b[1;33m(\u001b[0m\u001b[1;34m\"el error es: \"\u001b[0m\u001b[1;33m,\u001b[0m \u001b[0merror\u001b[0m\u001b[1;33m)\u001b[0m\u001b[1;33m\u001b[0m\u001b[0m\n\u001b[1;32m---> 10\u001b[1;33m     \u001b[1;32mif\u001b[0m \u001b[1;33m(\u001b[0m\u001b[0merror\u001b[0m \u001b[1;33m<=\u001b[0m \u001b[0merror_min\u001b[0m\u001b[1;33m)\u001b[0m\u001b[1;33m:\u001b[0m\u001b[1;33m\u001b[0m\u001b[0m\n\u001b[0m\u001b[0;32m     11\u001b[0m         \u001b[0mflag_valid\u001b[0m\u001b[1;33m=\u001b[0m\u001b[1;32mTrue\u001b[0m\u001b[1;33m\u001b[0m\u001b[0m\n\u001b[0;32m     12\u001b[0m     \u001b[1;32melse\u001b[0m\u001b[1;33m:\u001b[0m\u001b[1;33m\u001b[0m\u001b[0m\n",
      "\u001b[1;31mValueError\u001b[0m: The truth value of an array with more than one element is ambiguous. Use a.any() or a.all()"
     ]
    }
   ],
   "source": [
    "vector_pesos_final = Perceptron_Train(matrix_entrenamiento,max_iteraciones = 1000,error_min = 8.9)\n"
   ]
  }
 ],
 "metadata": {
  "kernelspec": {
   "display_name": "Python 3",
   "language": "python",
   "name": "python3"
  },
  "language_info": {
   "codemirror_mode": {
    "name": "ipython",
    "version": 3
   },
   "file_extension": ".py",
   "mimetype": "text/x-python",
   "name": "python",
   "nbconvert_exporter": "python",
   "pygments_lexer": "ipython3",
   "version": "3.6.4"
  }
 },
 "nbformat": 4,
 "nbformat_minor": 2
}
