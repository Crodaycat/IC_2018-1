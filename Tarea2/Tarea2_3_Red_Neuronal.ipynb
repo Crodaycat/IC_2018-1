{
 "cells": [
  {
   "cell_type": "markdown",
   "metadata": {},
   "source": [
    "# DISEÑO DE UNA RED NEURONAL"
   ]
  },
  {
   "cell_type": "markdown",
   "metadata": {},
   "source": [
    "##  Edison David González Blandón - JuanEsteban Velásquez"
   ]
  },
  {
   "cell_type": "code",
   "execution_count": 3,
   "metadata": {},
   "outputs": [],
   "source": [
    "import pandas as pd\n",
    "import numpy as np\n",
    "import matplotlib.pyplot as plt"
   ]
  },
  {
   "cell_type": "code",
   "execution_count": 7,
   "metadata": {},
   "outputs": [],
   "source": [
    "df1=pd.read_csv(\"DataNN.txt\")\n",
    "df2 = df1.copy()\n",
    "classes = df1.iloc[:,-1].copy()\n",
    "df1 = df1.iloc[:,0:-1].copy()\n",
    "df1 = (df1-np.mean(df1, axis = 0))/(np.std(df1, axis = 0))\n",
    "NumVariables = df1.shape[1]\n",
    "X = np.array(df1)\n",
    "y = np.array(classes)-1.0\n"
   ]
  },
  {
   "cell_type": "code",
   "execution_count": null,
   "metadata": {},
   "outputs": [],
   "source": [
    "def sigmoid(x):\n",
    "    return 1/(1+np.exp(-x))\n",
    "\n",
    "def d_sigmoid(x):\n",
    "    return sigmoid(x)*(1-sigmoid(x))\n",
    "\n",
    "def clearList(L): #arroja una lista de L elementos vacios, no sabia de qué otra forma hacerla\n",
    "    listica = []\n",
    "    for i in range(0,L):\n",
    "        listica.append([]);\n",
    "    return listica\n",
    "\n",
    "def RedNeuronalTrain(X,y,Lsizes,alpha = .1,epochs = 20,outputs = 2):\n",
    "    N  = X.shape[0]   #número de muestras para realizar el entrenamiento\n",
    "    nf = X.shape[1]   #número de características\n",
    "    L = len(Lsizes)   #número de capas ocultas\n",
    "    w_ = []           #pesos de la red neuronal\n",
    "    error_array = []\n",
    "    w_.append(np.random.rand(Lsizes[0],nf+1)) #Primera capa: L_1 filas & nf + 1 columnas (añadiendo la neurona de BIAS)\n",
    "    for k in range(0,L-1):\n",
    "        w_.append(np.random.rand(Lsizes[k+1],(Lsizes[k]+1)))#capa siguiente en las filas y capa actual columnas\n",
    "    w_.append(np.random.rand(outputs,Lsizes[L-1]+1))        #Ultima capa interna: ourput_N flas & L_final columnas \n",
    "                                                            #(añadiendo la neurona de BIAS) \n",
    "    for j in range(0,epochs): #condición de parada\n",
    "        J = 0                 #error cuadratico medio  \n",
    "        for i in range(0,N):\n",
    "            Y = np.zeros(shape=(outputs,1))\n",
    "            Y[int(y[i])] = 1.0\n",
    "            a_ = []\n",
    "            z_ = []\n",
    "            a_.append(X[i,None].T)\n",
    "            for k in range(0,(L+1)):\n",
    "                #Se agrega el bias a la capa externa k+1\n",
    "                a_[k] = np.insert(a_[k], 0, 1,axis=0)\n",
    "                z_.append(np.dot(w_[k],a_[k]))\n",
    "                a_.append(sigmoid(z_[k]))\n",
    "            #Backward\n",
    "            J = J + np.sum((Y-a_[len(a_)-1])*(Y-a_[len(a_)-1]))\n",
    "            d_=clearList(len(a_))\n",
    "            \n",
    "            d_[L+1]= (Y-a_[L+1])*d_sigmoid(z_[L])\n",
    "            for k in range(L,0,-1):\n",
    "                d_[k] = np.dot(w_[k].T,d_[k+1])\n",
    "                d_[k] = np.delete(d_[k],0,axis=0)\n",
    "                d_[k] = d_[k]*d_sigmoid(z_[k-1])\n",
    "                \n",
    "            DE_dw_=clearList(len(w_))\n",
    "            for k in range(0,len(w_)):\n",
    "                DE_dw_[k] = -np.dot(d_[k+1],a_[k].T)\n",
    "            for k in range(0,len(w_)):\n",
    "                w_[k] = w_[k]-alpha*DE_dw_[k]\n",
    "        error_array.append(J/2)\n",
    "    return [w_,J/2,error_array]\n",
    "\n",
    "def Predict(X,w_): \n",
    "    #Forward\n",
    "    #Para cada muestra\n",
    "    L = len(w_)\n",
    "    a_ = []\n",
    "    z_ = []\n",
    "    a_.append(X[:,None])\n",
    "    for k in range(0,(L)):\n",
    "        #Se agrega el bias a la capa externa k+1\n",
    "        a_[k] = np.insert(a_[k], 0, 1,axis=0)\n",
    "        z_.append(np.dot(w_[k],a_[k]))\n",
    "        a_.append(sigmoid(z_[k]))\n",
    "    return a_[len(a_)-1]\n"
   ]
  },
  {
   "cell_type": "code",
   "execution_count": null,
   "metadata": {},
   "outputs": [],
   "source": []
  }
 ],
 "metadata": {
  "kernelspec": {
   "display_name": "Python 3",
   "language": "python",
   "name": "python3"
  },
  "language_info": {
   "codemirror_mode": {
    "name": "ipython",
    "version": 3
   },
   "file_extension": ".py",
   "mimetype": "text/x-python",
   "name": "python",
   "nbconvert_exporter": "python",
   "pygments_lexer": "ipython3",
   "version": "3.6.4"
  }
 },
 "nbformat": 4,
 "nbformat_minor": 2
}
