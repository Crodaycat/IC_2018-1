{
 "cells": [
  {
   "cell_type": "markdown",
   "metadata": {},
   "source": [
    "# Controlando Archivos Excel con Pandas"
   ]
  },
  {
   "cell_type": "markdown",
   "metadata": {},
   "source": [
    "### Leyendo el documento Excel"
   ]
  },
  {
   "cell_type": "markdown",
   "metadata": {},
   "source": [
    "#### Importando pandas y numpy, obteniendo el excel y nombre hojas"
   ]
  },
  {
   "cell_type": "code",
   "execution_count": 12,
   "metadata": {},
   "outputs": [
    {
     "name": "stdout",
     "output_type": "stream",
     "text": [
      "['Sheet1', 'Sheet2', 'Sheet3']\n",
      "<pandas.io.excel.ExcelFile object at 0x000001DB0C1E08D0>\n"
     ]
    }
   ],
   "source": [
    "import pandas as pd\n",
    "import numpy as np\n",
    "datos_xls = pd.ExcelFile('address.xlsx') #Obteniendo el archivo\n",
    "sheet_names = datos_xls.sheet_names\n",
    "print(sheet_names)\n",
    "print(datos_xls)"
   ]
  },
  {
   "cell_type": "markdown",
   "metadata": {},
   "source": [
    "#### Obteniendo hoja completa - dataframe"
   ]
  },
  {
   "cell_type": "code",
   "execution_count": 13,
   "metadata": {},
   "outputs": [
    {
     "name": "stdout",
     "output_type": "stream",
     "text": [
      "         Last   First                 Address         City State    ZIP\n",
      "0      Buffet   Jimmy  Somewhere on the Beach     Key West    FL  33040\n",
      "1        Bush  George   1600 Pennsylvania Ave   Washington    DC  20500\n",
      "2     Cartman    Eric         84 Bigboned Way   South Park    CO  84214\n",
      "3    Crockett   Davey               The Alamo  San Antonio    TX  78210\n",
      "4         Doe    Jane        821 Zimbabwe Ave   Washington    DC  20021\n",
      "5       Gates    Bill         1 Microsoft Way      Redmond    WA  98052\n",
      "6   Jefferson  George   194 Deelux Apartments   In the Sky    NY  10041\n",
      "7        Kong    King   Empire State Building     New York    NY  10118\n",
      "8     Munster  Herman   1313 Mockingbird Lane        Fargo    ND  58102\n",
      "9      Rockne   Knute         146 Keenan Hall   Notre Dame    IN  46556\n",
      "10    Simpson   Homer   742 Evergreen Terrace  Springfield    US  12345\n",
      "11      Smith     Bob          12 Main Street      Anytown    IN  46001\n",
      "<class 'pandas.core.frame.DataFrame'>\n"
     ]
    }
   ],
   "source": [
    "hoja = datos_xls.parse(sheet_names[0])\n",
    "print(hoja)\n",
    "print(type(hoja))"
   ]
  },
  {
   "cell_type": "markdown",
   "metadata": {},
   "source": [
    "<img src=\"Captura_address.PNG\"/>"
   ]
  },
  {
   "cell_type": "markdown",
   "metadata": {},
   "source": [
    "#### obteniendo una columna"
   ]
  },
  {
   "cell_type": "code",
   "execution_count": 14,
   "metadata": {},
   "outputs": [
    {
     "name": "stdout",
     "output_type": "stream",
     "text": [
      "0      Jimmy\n",
      "1     George\n",
      "2       Eric\n",
      "3      Davey\n",
      "4       Jane\n",
      "5       Bill\n",
      "6     George\n",
      "7       King\n",
      "8     Herman\n",
      "9      Knute\n",
      "10     Homer\n",
      "11       Bob\n",
      "Name: First, dtype: object\n",
      "<class 'pandas.core.series.Series'>\n",
      "0      Jimmy\n",
      "1     George\n",
      "2       Eric\n",
      "3      Davey\n",
      "4       Jane\n",
      "5       Bill\n",
      "6     George\n",
      "7       King\n",
      "8     Herman\n",
      "9      Knute\n",
      "10     Homer\n",
      "11       Bob\n",
      "Name: First, dtype: object\n",
      "<class 'pandas.core.series.Series'>\n"
     ]
    }
   ],
   "source": [
    "primer_fila = hoja.iloc[:,1]\n",
    "primer_fila2 = primer_fila.copy();\n",
    "print(primer_fila)\n",
    "print(type(primer_fila))\n",
    "print(primer_fila2)\n",
    "print(type(primer_fila2))"
   ]
  },
  {
   "cell_type": "code",
   "execution_count": 16,
   "metadata": {},
   "outputs": [
    {
     "name": "stdout",
     "output_type": "stream",
     "text": [
      "['Jimmy' 'George' 'Eric' 'Davey' 'Jane' 'Bill' 'George' 'King' 'Herman'\n",
      " 'Knute' 'Homer' 'Bob']\n",
      "<class 'numpy.ndarray'>\n"
     ]
    }
   ],
   "source": [
    "fila = np.array(primer_fila)\n",
    "print(fila)\n",
    "print(type(fila))"
   ]
  },
  {
   "cell_type": "code",
   "execution_count": null,
   "metadata": {},
   "outputs": [],
   "source": []
  }
 ],
 "metadata": {
  "kernelspec": {
   "display_name": "Python 3",
   "language": "python",
   "name": "python3"
  },
  "language_info": {
   "codemirror_mode": {
    "name": "ipython",
    "version": 3
   },
   "file_extension": ".py",
   "mimetype": "text/x-python",
   "name": "python",
   "nbconvert_exporter": "python",
   "pygments_lexer": "ipython3",
   "version": "3.6.4"
  }
 },
 "nbformat": 4,
 "nbformat_minor": 2
}
